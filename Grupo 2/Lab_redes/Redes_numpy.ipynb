{
 "cells": [
  {
   "cell_type": "markdown",
   "metadata": {
    "id": "41TXUwo9qaCK"
   },
   "source": [
    "# Taller ML grupo 02.\n",
    "### Codigo e implementación https://github.com/Psychofun/Red-Neuronal-Numpy\n",
    "Autor: PsyFun\n",
    "##Preprocesamiento de los datos, para estandarizar (\"gre\",\"gpa\") e individualizar la caracteristica categorica \"rank\""
   ]
  },
  {
   "cell_type": "code",
   "execution_count": 2,
   "metadata": {
    "colab": {
     "base_uri": "https://localhost:8080/"
    },
    "id": "AJZTjn-Jk-NB",
    "outputId": "e66e0897-69a3-44af-d730-cf07fbabb7b8"
   },
   "outputs": [
    {
     "name": "stdout",
     "output_type": "stream",
     "text": [
      "            admit         gre         gpa       rank\n",
      "count  400.000000  400.000000  400.000000  400.00000\n",
      "mean     0.317500  587.700000    3.389900    2.48500\n",
      "std      0.466087  115.516536    0.380567    0.94446\n",
      "min      0.000000  220.000000    2.260000    1.00000\n",
      "25%      0.000000  520.000000    3.130000    2.00000\n",
      "50%      0.000000  580.000000    3.395000    2.00000\n",
      "75%      1.000000  660.000000    3.670000    3.00000\n",
      "max      1.000000  800.000000    4.000000    4.00000\n",
      "(400, 4)\n",
      "   admit  gre   gpa  rank\n",
      "0      0  380  3.61     3\n",
      "1      1  660  3.67     3\n",
      "2      1  800  4.00     1\n",
      "3      1  640  3.19     4\n",
      "4      0  520  2.93     4\n"
     ]
    }
   ],
   "source": [
    "import numpy as np\n",
    "import pandas as pd\n",
    "\n",
    "admissions = pd.read_csv('binary.csv') #Lee csv\n",
    "print(admissions.describe()) #Tabla\n",
    "print(admissions.shape) #(numero de datos por columna, numero de columnas)\n",
    "print(admissions.head()) #Primeros datos"
   ]
  },
  {
   "cell_type": "markdown",
   "metadata": {
    "id": "U9XG_Iz8sAaa"
   },
   "source": [
    "#### Conversion de una variable categorica \"rank\" a variables binarias \"rank_1\",\"rank_2\",\"rank_3\", \"rank_4\""
   ]
  },
  {
   "cell_type": "code",
   "execution_count": 9,
   "metadata": {
    "colab": {
     "base_uri": "https://localhost:8080/"
    },
    "id": "FcgNCowrsIVz",
    "outputId": "19557beb-1e93-439b-a8c3-8f572fa424da"
   },
   "outputs": [
    {
     "name": "stdout",
     "output_type": "stream",
     "text": [
      "            admit         gre         gpa       rank      rank_1      rank_2  \\\n",
      "count  400.000000  400.000000  400.000000  400.00000  400.000000  400.000000   \n",
      "mean     0.317500  587.700000    3.389900    2.48500    0.152500    0.377500   \n",
      "std      0.466087  115.516536    0.380567    0.94446    0.359955    0.485369   \n",
      "min      0.000000  220.000000    2.260000    1.00000    0.000000    0.000000   \n",
      "25%      0.000000  520.000000    3.130000    2.00000    0.000000    0.000000   \n",
      "50%      0.000000  580.000000    3.395000    2.00000    0.000000    0.000000   \n",
      "75%      1.000000  660.000000    3.670000    3.00000    0.000000    1.000000   \n",
      "max      1.000000  800.000000    4.000000    4.00000    1.000000    1.000000   \n",
      "\n",
      "           rank_3      rank_4  \n",
      "count  400.000000  400.000000  \n",
      "mean     0.302500    0.167500  \n",
      "std      0.459916    0.373889  \n",
      "min      0.000000    0.000000  \n",
      "25%      0.000000    0.000000  \n",
      "50%      0.000000    0.000000  \n",
      "75%      1.000000    0.000000  \n",
      "max      1.000000    1.000000  \n",
      "(400, 7)\n",
      "   admit  gre   gpa  rank_1  rank_2  rank_3  rank_4\n",
      "0      0  380  3.61       0       0       1       0\n",
      "1      1  660  3.67       0       0       1       0\n",
      "2      1  800  4.00       1       0       0       0\n",
      "3      1  640  3.19       0       0       0       1\n",
      "4      0  520  2.93       0       0       0       1\n"
     ]
    }
   ],
   "source": [
    "data = pd.concat([admissions, pd.get_dummies(admissions['rank'], prefix='rank')], axis=1) #Agregar rank_i (i = 1,2,3,4)\n",
    "print(data.describe())\n",
    "data = data.drop('rank', axis=1) #Borrar 'rank'\n",
    "print(data.shape)\n",
    "print(data.head())"
   ]
  },
  {
   "cell_type": "markdown",
   "metadata": {
    "id": "fmEtWaKru5at"
   },
   "source": [
    "Estandarizacion de las variables (\"gre\",\"gpa\")"
   ]
  },
  {
   "cell_type": "code",
   "execution_count": 10,
   "metadata": {
    "colab": {
     "base_uri": "https://localhost:8080/"
    },
    "id": "X5SSkXX3u5nl",
    "outputId": "334874d6-2954-4065-9d10-d3ffbcffe523"
   },
   "outputs": [
    {
     "name": "stdout",
     "output_type": "stream",
     "text": [
      "(400, 7)\n",
      "            admit           gre           gpa      rank_1      rank_2  \\\n",
      "count  400.000000  4.000000e+02  4.000000e+02  400.000000  400.000000   \n",
      "mean     0.317500 -3.927761e-16 -4.440892e-15    0.152500    0.377500   \n",
      "std      0.466087  1.000000e+00  1.000000e+00    0.359955    0.485369   \n",
      "min      0.000000 -3.183094e+00 -2.968993e+00    0.000000    0.000000   \n",
      "25%      0.000000 -5.860633e-01 -6.829288e-01    0.000000    0.000000   \n",
      "50%      0.000000 -6.665712e-02  1.340106e-02    0.000000    0.000000   \n",
      "75%      1.000000  6.258844e-01  7.360075e-01    0.000000    1.000000   \n",
      "max      1.000000  1.837832e+00  1.603135e+00    1.000000    1.000000   \n",
      "\n",
      "           rank_3      rank_4  \n",
      "count  400.000000  400.000000  \n",
      "mean     0.302500    0.167500  \n",
      "std      0.459916    0.373889  \n",
      "min      0.000000    0.000000  \n",
      "25%      0.000000    0.000000  \n",
      "50%      0.000000    0.000000  \n",
      "75%      1.000000    0.000000  \n",
      "max      1.000000    1.000000  \n"
     ]
    }
   ],
   "source": [
    "# Standarize features\n",
    "for field in ['gre', 'gpa']:\n",
    "    mean, std = data[field].mean(), data[field].std()\n",
    "    data.loc[:,field] = (data[field]-mean)/std\n",
    "print(data.shape)\n",
    "print(data.describe())"
   ]
  },
  {
   "cell_type": "markdown",
   "metadata": {
    "id": "PVB1VUJJ3bSb"
   },
   "source": [
    "Dividir el conjunto de datos para entrenamiento y evaluación del modelo"
   ]
  },
  {
   "cell_type": "code",
   "execution_count": 11,
   "metadata": {
    "colab": {
     "base_uri": "https://localhost:8080/"
    },
    "id": "tPSE6sC84O8F",
    "outputId": "dcea31f4-e638-4e7f-ca81-448408a1497a"
   },
   "outputs": [
    {
     "name": "stdout",
     "output_type": "stream",
     "text": [
      "RangeIndex(start=0, stop=400, step=1)\n"
     ]
    }
   ],
   "source": [
    "print(data.index)"
   ]
  },
  {
   "cell_type": "code",
   "execution_count": 19,
   "metadata": {
    "colab": {
     "base_uri": "https://localhost:8080/"
    },
    "id": "SylZqIL930bt",
    "outputId": "bf49adcc-773e-427f-c867-cb338e3187fd"
   },
   "outputs": [
    {
     "name": "stdout",
     "output_type": "stream",
     "text": [
      "(360, 7)\n",
      "(40, 7)\n"
     ]
    }
   ],
   "source": [
    "# Split off random 10% of the data for testing\n",
    "np.random.seed(21)\n",
    "\n",
    "sample = np.random.choice(data.index, size=int(len(data)*0.9), replace=False)\n",
    "train_data, test_data = data.iloc[sample], data.drop(sample)\n",
    "print(train_data.shape)\n",
    "print(test_data.shape)"
   ]
  },
  {
   "cell_type": "markdown",
   "metadata": {
    "id": "J1pEVm7X473r"
   },
   "source": [
    "División de los datos en caracteristicas y etiquetas"
   ]
  },
  {
   "cell_type": "code",
   "execution_count": 20,
   "metadata": {
    "id": "vdlScpB946Py"
   },
   "outputs": [],
   "source": [
    "features, targets = train_data.drop('admit', axis=1), train_data['admit']\n",
    "features_test, targets_test = test_data.drop('admit', axis=1), test_data['admit']"
   ]
  },
  {
   "cell_type": "markdown",
   "metadata": {
    "id": "WKkMs94U5MBm"
   },
   "source": []
  },
  {
   "cell_type": "markdown",
   "metadata": {
    "id": "6GDBHBbT5WtC"
   },
   "source": [
    "Función de Activación"
   ]
  },
  {
   "cell_type": "code",
   "execution_count": 22,
   "metadata": {
    "id": "3X5cn6oa5amd"
   },
   "outputs": [],
   "source": [
    "def sigmoide(x): #O(1)\n",
    "    return 1/(1 + np.exp(-x))"
   ]
  },
  {
   "cell_type": "code",
   "execution_count": 24,
   "metadata": {
    "colab": {
     "base_uri": "https://localhost:8080/"
    },
    "id": "_5PDFAdG5TIm",
    "outputId": "a9241ce1-bd14-4136-9124-a688ad8d9a44"
   },
   "outputs": [
    {
     "name": "stdout",
     "output_type": "stream",
     "text": [
      "(6, 2)\n",
      "(2,)\n",
      "Costo de entrenamiento:  0.23876599017190783\n",
      "Costo de entrenamiento:  0.23697803410671514\n",
      "Costo de entrenamiento:  0.23531136470533331\n",
      "Costo de entrenamiento:  0.2337576882282785\n",
      "Costo de entrenamiento:  0.23230916665161644\n",
      "Costo de entrenamiento:  0.23095842016569537\n",
      "Costo de entrenamiento:  0.22969852254489007\n",
      "Costo de entrenamiento:  0.22852299101934836\n",
      "Costo de entrenamiento:  0.22742577203202505\n",
      "Costo de entrenamiento:  0.22640122403585575\n",
      "Precisión: 0.650\n"
     ]
    }
   ],
   "source": [
    "# Hyperparameters\n",
    "n_hidden = 2 # Número de unidades en la capa escondida - O(1)\n",
    "epochs = 1000 # Número de iteraciones sobre el conjunto de entrenamiento - O(1)\n",
    "alpha = 0.01 # Taza de aprendizaje - O(1)\n",
    "\n",
    "ult_costo = None #O(1)\n",
    "\n",
    "m,k = features.shape # Número de ejemplos de entrenamiento, número de dimensiones en los datos - O(1)\n",
    "# Inicialización de los pesos\n",
    "entrada_escondida = np.random.normal(scale = 1/k**0.5,size = (k,n_hidden)) #O(n)\n",
    "escondida_salida = np.random.normal(scale = 1/k**0.5,size = n_hidden) #O(n)\n",
    "print(entrada_escondida.shape)\n",
    "print(escondida_salida.shape)\n",
    "# Entrenamiento\n",
    "for e in range(epochs): #O(n)\n",
    "    # Variables para el gradiente\n",
    "    gradiente_entrada_escondida = np.zeros(entrada_escondida.shape) #O(entrada_escondida.shape) = O(n)\n",
    "    gradiente_escondida_salida =  np.zeros(escondida_salida.shape) #O(escondida_salida.shape) = O(n)\n",
    "    # Itera sobre el conjunto de entrenamiento\n",
    "    for x,y in zip(features.values,targets): #O(n)\n",
    "        # Pasada hacia adelande (forward pass) or forward propagation\n",
    "        z = sigmoide(np.matmul(x, entrada_escondida)) #O(n)\n",
    "        y_ =sigmoide(np.matmul(escondida_salida,z)) # predicción - O(n)\n",
    "        # Pasada hacia atrás (backward pass)\n",
    "        salida_error = (y - y_) * y_ *(1- y_) #O(1)\n",
    "        escondida_error = np.dot(salida_error, escondida_salida) * z * (1 -z) #O(n)\n",
    "\n",
    "        gradiente_entrada_escondida += escondida_error * x[:,None] #O(1)\n",
    "        gradiente_escondida_salida += salida_error * z #O(1)\n",
    "    # Actualiza los parámetros (pesos)\n",
    "    entrada_escondida += alpha * gradiente_entrada_escondida / m #O(1)\n",
    "    escondida_salida +=  alpha * gradiente_escondida_salida / m #O(1)\n",
    "\n",
    "    if e % (epochs / 10 ) == 0: #O(n)\n",
    "        z = sigmoide(np.dot(features.values, entrada_escondida)) #O(n)\n",
    "        y_ = sigmoide(np.dot(z, escondida_salida)) #O(n)\n",
    "\n",
    "        # Función de costo\n",
    "        costo = np.mean(( y_ - targets)**2 ) #O(n)\n",
    "\n",
    "        if ult_costo  and ult_costo < costo: #O(1)\n",
    "            print(\"Costo de  entrenamiento: \", costo, \" ADVERTENCIA -  Costo subiendo\")\n",
    "        else:\n",
    "            print(\"Costo de entrenamiento: \", costo )\n",
    "        \n",
    "        ult_costo = costo \n",
    "\n",
    "#  Precisión en los datos de prueba \n",
    "z = sigmoide(np.dot(features_test, entrada_escondida)) #O(n)\n",
    "y_ = sigmoide(np.dot(z, escondida_salida)) #O(n)\n",
    "\n",
    "predicciones =  y_ > 0.5 \n",
    "precision = np.mean(predicciones == targets_test) #O(n)\n",
    "print(\"Precisión: {:.3f}\".format(precision)) #O(n)\n",
    "\n",
    "#Asi el coste computacional de este entrenamiento es de O(n)\n",
    "\n",
    "\n"
   ]
  },
  {
   "cell_type": "code",
   "execution_count": null,
   "metadata": {},
   "outputs": [],
   "source": []
  }
 ],
 "metadata": {
  "colab": {
   "provenance": []
  },
  "kernelspec": {
   "display_name": "Python 3 (ipykernel)",
   "language": "python",
   "name": "python3"
  },
  "language_info": {
   "codemirror_mode": {
    "name": "ipython",
    "version": 3
   },
   "file_extension": ".py",
   "mimetype": "text/x-python",
   "name": "python",
   "nbconvert_exporter": "python",
   "pygments_lexer": "ipython3",
   "version": "3.8.8"
  }
 },
 "nbformat": 4,
 "nbformat_minor": 1
}
