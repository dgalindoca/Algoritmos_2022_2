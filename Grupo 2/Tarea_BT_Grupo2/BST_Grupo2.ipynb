{
  "nbformat": 4,
  "nbformat_minor": 0,
  "metadata": {
    "colab": {
      "provenance": [],
      "collapsed_sections": []
    },
    "kernelspec": {
      "name": "python3",
      "display_name": "Python 3"
    },
    "language_info": {
      "name": "python"
    }
  },
  "cells": [
    {
      "cell_type": "code",
      "source": [
        "# Python program to demonstrate searching operation\n",
        "# in binary search tree without recursion\n",
        "class newNode:\n",
        " \n",
        "    # Constructor to create a new node\n",
        "    def __init__(self, data):\n",
        "        self.data = data\n",
        "        self.left = None\n",
        "        self.right = None\n",
        " \n",
        "# Function to check the given\n",
        "# key exist or not\n",
        "def iterativeSearch(root, key):\n",
        "  # Traverse until root reaches\n",
        "  # to dead end\n",
        "  representation = \"   ROOT\\n\"\n",
        "  indent_num = 0\n",
        "  while root != None:\n",
        "    # pass right subtree as new tree\n",
        "    representation += \"( \"+ str(root.data).center(5) + \" )\"\n",
        "    if key > root.data:\n",
        "      print(root.data, \"Turn right\")\n",
        "      indent_num += 1\n",
        "      representation += \"——\"\n",
        "      root = root.right\n",
        "    # pass left subtree as new tree\n",
        "    elif key < root.data:\n",
        "      print(root.data, \"Turn left\")\n",
        "      representation += \"\\n\" + \"           \"*indent_num + \"    |    \" + \"\\n\" + \"           \"*indent_num\n",
        "      root = root.left\n",
        "    else:\n",
        "      return (root.data, representation)\n",
        "  return (False, representation)\n",
        "\n",
        " \n",
        "# A utility function to insert a\n",
        "# new Node with given key in BST\n",
        "def insert(Node, data):\n",
        "     \n",
        "    # If the tree is empty, return\n",
        "    # a new Node\n",
        "    if Node == None:\n",
        "        return newNode(data)\n",
        " \n",
        "    # Otherwise, recur down the tree\n",
        "    if data < Node.data:\n",
        "        Node.left = insert(Node.left, data)\n",
        "    elif data > Node.data:\n",
        "        Node.right = insert(Node.right, data)\n",
        " \n",
        "    # return the (unchanged) Node pointer\n",
        "    return Node\n",
        " \n",
        " \n",
        "# This code is contributed by PranchalK"
      ],
      "metadata": {
        "id": "5dbE2WXlyjI1"
      },
      "execution_count": null,
      "outputs": []
    },
    {
      "cell_type": "code",
      "source": [
        "# Driver Code\n",
        "def run():\n",
        "  n = int(input(\"Insert number of nodes: \"))\n",
        "  root = None\n",
        "  for i in range(n):\n",
        "    if i == 0:\n",
        "      root = insert(root, int(input(\"Insert root: \")))\n",
        "    else:\n",
        "      insert(root, int(input(\"Insert new node ({}): \".format(i+1))))\n",
        "  found, path = iterativeSearch(root, int(input(\"Insert value to search: \")))\n",
        "\n",
        "  if found:\n",
        "      print(\"The value is in the tree.\\nPath: \\n\\n\", path, sep=\"\")\n",
        "  else:\n",
        "      print(\"The value was not found.\")"
      ],
      "metadata": {
        "id": "VGhvfJcRzIV7"
      },
      "execution_count": null,
      "outputs": []
    },
    {
      "cell_type": "markdown",
      "source": [
        "![IOSJFJSIODF.png](data:image/png;base64,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)"
      ],
      "metadata": {
        "id": "HkJUr7ihVwUL"
      }
    },
    {
      "cell_type": "code",
      "source": [
        "run()"
      ],
      "metadata": {
        "colab": {
          "base_uri": "https://localhost:8080/"
        },
        "id": "OSB_wPl-UR84",
        "outputId": "4aaaa9c9-d652-4685-b68e-874b9a3344d6"
      },
      "execution_count": null,
      "outputs": [
        {
          "output_type": "stream",
          "name": "stdout",
          "text": [
            "Insert number of nodes: 3\n",
            "Insert root: 5\n",
            "Insert new node (2): 2\n",
            "Insert new node (3): 5\n",
            "Insert value to search: 2\n",
            "5 Turn left\n",
            "The value is in the three.\n",
            "Path: \n",
            "\n",
            "   ROOT\n",
            "(   5   )\n",
            "    |    \n",
            "(   2   )\n"
          ]
        }
      ]
    },
    {
      "cell_type": "code",
      "source": [
        "run()"
      ],
      "metadata": {
        "colab": {
          "base_uri": "https://localhost:8080/"
        },
        "id": "3l9Croh6YmUp",
        "outputId": "ffdf3aae-52c9-4742-e1c2-eeb08fdb5575"
      },
      "execution_count": null,
      "outputs": [
        {
          "output_type": "stream",
          "name": "stdout",
          "text": [
            "Insert number of nodes: 10\n",
            "Insert root: 1\n",
            "Insert new node (2): 10\n",
            "Insert new node (3): 2\n",
            "Insert new node (4): 9\n",
            "Insert new node (5): 3\n",
            "Insert new node (6): 8\n",
            "Insert new node (7): 4\n",
            "Insert new node (8): 7\n",
            "Insert new node (9): 5\n",
            "Insert new node (10): 6\n",
            "Insert value to search: 6\n",
            "1 Turn right\n",
            "10 Turn left\n",
            "2 Turn right\n",
            "9 Turn left\n",
            "3 Turn right\n",
            "8 Turn left\n",
            "4 Turn right\n",
            "7 Turn left\n",
            "5 Turn right\n",
            "The value is in the three.\n",
            "Path: \n",
            "\n",
            "   ROOT\n",
            "(   1   )——(   10  )\n",
            "               |    \n",
            "           (   2   )——(   9   )\n",
            "                          |    \n",
            "                      (   3   )——(   8   )\n",
            "                                     |    \n",
            "                                 (   4   )——(   7   )\n",
            "                                                |    \n",
            "                                            (   5   )——(   6   )\n"
          ]
        }
      ]
    },
    {
      "cell_type": "code",
      "source": [
        "run()"
      ],
      "metadata": {
        "colab": {
          "base_uri": "https://localhost:8080/"
        },
        "id": "Mvldq0H4YyVv",
        "outputId": "43e7c590-3c03-4413-ef39-e723ff5cb280"
      },
      "execution_count": null,
      "outputs": [
        {
          "output_type": "stream",
          "name": "stdout",
          "text": [
            "Insert number of nodes: 5\n",
            "Insert root: 1\n",
            "Insert new node (2): 2\n",
            "Insert new node (3): 3\n",
            "Insert new node (4): 4\n",
            "Insert new node (5): 5\n",
            "Insert value to search: 5\n",
            "1 Turn right\n",
            "2 Turn right\n",
            "3 Turn right\n",
            "4 Turn right\n",
            "The value is in the three.\n",
            "Path: \n",
            "\n",
            "   ROOT\n",
            "(   1   )——(   2   )——(   3   )——(   4   )——(   5   )\n"
          ]
        }
      ]
    },
    {
      "cell_type": "code",
      "source": [
        "run()"
      ],
      "metadata": {
        "colab": {
          "base_uri": "https://localhost:8080/"
        },
        "id": "_6e2oktDY4QE",
        "outputId": "1dea7ee9-5a5a-484f-d211-f45569444c80"
      },
      "execution_count": null,
      "outputs": [
        {
          "output_type": "stream",
          "name": "stdout",
          "text": [
            "Insert number of nodes: 5\n",
            "Insert root: 5\n",
            "Insert new node (2): 4\n",
            "Insert new node (3): 3\n",
            "Insert new node (4): 2\n",
            "Insert new node (5): 1\n",
            "Insert value to search: 1\n",
            "5 Turn left\n",
            "4 Turn left\n",
            "3 Turn left\n",
            "2 Turn left\n",
            "The value is in the three.\n",
            "Path: \n",
            "\n",
            "   ROOT\n",
            "(   5   )\n",
            "    |    \n",
            "(   4   )\n",
            "    |    \n",
            "(   3   )\n",
            "    |    \n",
            "(   2   )\n",
            "    |    \n",
            "(   1   )\n"
          ]
        }
      ]
    },
    {
      "cell_type": "code",
      "source": [
        "run()"
      ],
      "metadata": {
        "colab": {
          "base_uri": "https://localhost:8080/"
        },
        "id": "_qdc899eZIFY",
        "outputId": "c6730511-8094-4604-a5e3-c04964bfca45"
      },
      "execution_count": null,
      "outputs": [
        {
          "output_type": "stream",
          "name": "stdout",
          "text": [
            "Insert number of nodes: 10\n",
            "Insert root: 6\n",
            "Insert new node (2): 5\n",
            "Insert new node (3): 4\n",
            "Insert new node (4): 7\n",
            "Insert new node (5): 3\n",
            "Insert new node (6): 11\n",
            "Insert new node (7): 10\n",
            "Insert new node (8): 8\n",
            "Insert new node (9): 2\n",
            "Insert new node (10): 9\n",
            "Insert value to search: 8\n",
            "6 Turn right\n",
            "7 Turn right\n",
            "11 Turn left\n",
            "10 Turn left\n",
            "The value is in the three.\n",
            "Path: \n",
            "\n",
            "   ROOT\n",
            "(   6   )——(   7   )——(   11  )\n",
            "                          |    \n",
            "                      (   10  )\n",
            "                          |    \n",
            "                      (   8   )\n"
          ]
        }
      ]
    },
    {
      "cell_type": "code",
      "source": [
        "run()"
      ],
      "metadata": {
        "colab": {
          "base_uri": "https://localhost:8080/"
        },
        "id": "nn-WF-skZih0",
        "outputId": "166a3541-7412-47a2-d804-49c982d86d66"
      },
      "execution_count": null,
      "outputs": [
        {
          "output_type": "stream",
          "name": "stdout",
          "text": [
            "Insert number of nodes: 10\n",
            "Insert root: 1\n",
            "Insert new node (2): 2\n",
            "Insert new node (3): 3\n",
            "Insert new node (4): 4\n",
            "Insert new node (5): 10\n",
            "Insert new node (6): 9\n",
            "Insert new node (7): 8\n",
            "Insert new node (8): 7\n",
            "Insert new node (9): 5\n",
            "Insert new node (10): 6\n",
            "Insert value to search: 6\n",
            "1 Turn right\n",
            "2 Turn right\n",
            "3 Turn right\n",
            "4 Turn right\n",
            "10 Turn left\n",
            "9 Turn left\n",
            "8 Turn left\n",
            "7 Turn left\n",
            "5 Turn right\n",
            "The value is in the three.\n",
            "Path: \n",
            "\n",
            "   ROOT\n",
            "(   1   )——(   2   )——(   3   )——(   4   )——(   10  )\n",
            "                                                |    \n",
            "                                            (   9   )\n",
            "                                                |    \n",
            "                                            (   8   )\n",
            "                                                |    \n",
            "                                            (   7   )\n",
            "                                                |    \n",
            "                                            (   5   )——(   6   )\n"
          ]
        }
      ]
    },
    {
      "cell_type": "code",
      "source": [
        "run()"
      ],
      "metadata": {
        "colab": {
          "base_uri": "https://localhost:8080/"
        },
        "id": "cwCKKj69bNTs",
        "outputId": "6ba2bbe0-06f6-452e-f81d-6b4ad43721e7"
      },
      "execution_count": null,
      "outputs": [
        {
          "output_type": "stream",
          "name": "stdout",
          "text": [
            "Insert number of nodes: 20\n",
            "Insert root: 1\n",
            "Insert new node (2): 20\n",
            "Insert new node (3): 2\n",
            "Insert new node (4): 19\n",
            "Insert new node (5): 3\n",
            "Insert new node (6): 18\n",
            "Insert new node (7): 4\n",
            "Insert new node (8): 17\n",
            "Insert new node (9): 5\n",
            "Insert new node (10): 16\n",
            "Insert new node (11): 6\n",
            "Insert new node (12): 15\n",
            "Insert new node (13): 7\n",
            "Insert new node (14): 14\n",
            "Insert new node (15): 8\n",
            "Insert new node (16): 13\n",
            "Insert new node (17): 9\n",
            "Insert new node (18): 12\n",
            "Insert new node (19): 10\n",
            "Insert new node (20): 11\n",
            "Insert value to search: 11\n",
            "1 Turn right\n",
            "20 Turn left\n",
            "2 Turn right\n",
            "19 Turn left\n",
            "3 Turn right\n",
            "18 Turn left\n",
            "4 Turn right\n",
            "17 Turn left\n",
            "5 Turn right\n",
            "16 Turn left\n",
            "6 Turn right\n",
            "15 Turn left\n",
            "7 Turn right\n",
            "14 Turn left\n",
            "8 Turn right\n",
            "13 Turn left\n",
            "9 Turn right\n",
            "12 Turn left\n",
            "10 Turn right\n",
            "The value is in the three.\n",
            "Path: \n",
            "\n",
            "   ROOT\n",
            "(   1   )——(   20  )\n",
            "               |    \n",
            "           (   2   )——(   19  )\n",
            "                          |    \n",
            "                      (   3   )——(   18  )\n",
            "                                     |    \n",
            "                                 (   4   )——(   17  )\n",
            "                                                |    \n",
            "                                            (   5   )——(   16  )\n",
            "                                                           |    \n",
            "                                                       (   6   )——(   15  )\n",
            "                                                                      |    \n",
            "                                                                  (   7   )——(   14  )\n",
            "                                                                                 |    \n",
            "                                                                             (   8   )——(   13  )\n",
            "                                                                                            |    \n",
            "                                                                                        (   9   )——(   12  )\n",
            "                                                                                                       |    \n",
            "                                                                                                   (   10  )——(   11  )\n"
          ]
        }
      ]
    },
    {
      "cell_type": "code",
      "source": [
        "run()"
      ],
      "metadata": {
        "colab": {
          "base_uri": "https://localhost:8080/"
        },
        "id": "isEFWSkBc-I1",
        "outputId": "c2de0479-feca-4757-eac0-9448dfbb090d"
      },
      "execution_count": null,
      "outputs": [
        {
          "output_type": "stream",
          "name": "stdout",
          "text": [
            "Insert number of nodes: 5\n",
            "Insert root: 1\n",
            "Insert new node (2): 1\n",
            "Insert new node (3): 1\n",
            "Insert new node (4): 1\n",
            "Insert new node (5): 1\n",
            "Insert value to search: 1\n",
            "The value is in the three.\n",
            "Path: \n",
            "\n",
            "   ROOT\n",
            "(   1   )\n"
          ]
        }
      ]
    }
  ]
}